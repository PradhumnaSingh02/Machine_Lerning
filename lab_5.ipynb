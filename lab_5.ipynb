{
  "nbformat": 4,
  "nbformat_minor": 0,
  "metadata": {
    "colab": {
      "name": "lab_5.ipynb",
      "provenance": []
    },
    "kernelspec": {
      "name": "python3",
      "display_name": "Python 3"
    },
    "language_info": {
      "name": "python"
    }
  },
  "cells": [
    {
      "cell_type": "markdown",
      "source": [
        "                                                    Lab-5\n",
        "Pradhumna Singh\n",
        "201B182\n",
        "                                    Classification(Mnist dataset)\n",
        "\n"
      ],
      "metadata": {
        "id": "gzf0E5LwdBng"
      }
    },
    {
      "cell_type": "code",
      "source": [
        "#Python and Sciket Learn is already installed in my System."
      ],
      "metadata": {
        "id": "Tn-rOJvhgV7K"
      },
      "execution_count": null,
      "outputs": []
    },
    {
      "cell_type": "code",
      "source": [
        "# 3. Load MNIST dataset for handwritten digits:\n",
        "from sklearn.datasets import fetch_openml\n",
        "mnist = fetch_openml('mnist_784', version=1)\n",
        "mnist.keys()                           "
      ],
      "metadata": {
        "colab": {
          "base_uri": "https://localhost:8080/"
        },
        "id": "I2LIq1Cccf7b",
        "outputId": "a016e6ed-a92f-40c5-e40b-4f95c547e635"
      },
      "execution_count": 14,
      "outputs": [
        {
          "output_type": "execute_result",
          "data": {
            "text/plain": [
              "dict_keys(['data', 'target', 'frame', 'categories', 'feature_names', 'target_names', 'DESCR', 'details', 'url'])"
            ]
          },
          "metadata": {},
          "execution_count": 14
        }
      ]
    },
    {
      "cell_type": "code",
      "source": [
        "# 4."
      ],
      "metadata": {
        "id": "Z7ySXijwdzRF"
      },
      "execution_count": 15,
      "outputs": []
    },
    {
      "cell_type": "code",
      "source": [
        " # 5. Separate data and target and store them into X and y respectively.\n",
        "X = mnist[\"data\"]\n",
        "y = mnist[\"target\"]"
      ],
      "metadata": {
        "id": "H9kzSvd6d1q-"
      },
      "execution_count": 16,
      "outputs": []
    },
    {
      "cell_type": "code",
      "source": [
        " # 6. Check the size and shape of data and target, and print.\n",
        "print(\"Shape and size of data is: \",X.shape,X.size)\n",
        "print(\"Shape and size of target is: \",y.shape,y.size)"
      ],
      "metadata": {
        "colab": {
          "base_uri": "https://localhost:8080/"
        },
        "id": "AQ_T2pvYd9Wa",
        "outputId": "0876d508-0519-4db1-8685-4c52b8dcec19"
      },
      "execution_count": 17,
      "outputs": [
        {
          "output_type": "stream",
          "name": "stdout",
          "text": [
            "Shape and size of data is:  (70000, 784) 54880000\n",
            "Shape and size of target is:  (70000,) 70000\n"
          ]
        }
      ]
    },
    {
      "cell_type": "code",
      "source": [
        "# 7. Use imshow function of matplotlib.pyplot to show any value of X as an image.\n",
        "import matplotlib as mpl\n",
        "import matplotlib.pyplot as plt\n",
        "import numpy as np\n",
        "some_digit=X[0:1]\n",
        "some_digit=np.array(some_digit)\n",
        "some_digit_image = some_digit.reshape(28, 28)\n",
        "plt.imshow(some_digit_image)\n",
        "plt.axis(\"off\")\n",
        "plt.show()"
      ],
      "metadata": {
        "colab": {
          "base_uri": "https://localhost:8080/",
          "height": 248
        },
        "id": "fucWuQsfeDAR",
        "outputId": "775b6477-57e6-4779-f1ea-5aee82281240"
      },
      "execution_count": 18,
      "outputs": [
        {
          "output_type": "display_data",
          "data": {
            "text/plain": [
              "<Figure size 432x288 with 1 Axes>"
            ],
            "image/png": "[encoded data removed]"
          },
          "metadata": {
            "needs_background": "light"
          }
        }
      ]
    },
    {
      "cell_type": "code",
      "source": [
        "# 8. Show the digit image in grey scale (use color map binary).\n",
        "plt.imshow(some_digit_image, cmap = mpl.cm.binary)\n",
        "plt.axis(\"off\")\n",
        "plt.show()"
      ],
      "metadata": {
        "colab": {
          "base_uri": "https://localhost:8080/",
          "height": 248
        },
        "id": "VijmeX0yeGdI",
        "outputId": "792c2d09-c2f9-4bf3-a373-5cd6e2b02752"
      },
      "execution_count": 19,
      "outputs": [
        {
          "output_type": "display_data",
          "data": {
            "text/plain": [
              "<Figure size 432x288 with 1 Axes>"
            ],
            "image/png": "[encoded data removed]"
          },
          "metadata": {
            "needs_background": "light"
          }
        }
      ]
    },
    {
      "cell_type": "code",
      "source": [
        "# 9. Convert the target values to unsigned int8, if these are not integer type.\n",
        "print(type(y[0]))\n",
        "y = y.astype(np.uint8)\n",
        "print(type(y[0]))"
      ],
      "metadata": {
        "colab": {
          "base_uri": "https://localhost:8080/"
        },
        "id": "8KeZuwpaeKjw",
        "outputId": "f3515189-eb3c-447a-a35e-619c2638e214"
      },
      "execution_count": 20,
      "outputs": [
        {
          "output_type": "stream",
          "name": "stdout",
          "text": [
            "<class 'str'>\n",
            "<class 'numpy.uint8'>\n"
          ]
        }
      ]
    },
    {
      "cell_type": "code",
      "source": [
        "#10. Divide the datasets, X and y, into train and test, follow the advicegiven in the datasets description for size of train and test.\n",
        "X_train,X_test,y_train,y_test = X[:60000],X[60000:],y[:60000],y[60000:]"
      ],
      "metadata": {
        "id": "vDDi7C_meOPm"
      },
      "execution_count": 21,
      "outputs": []
    },
    {
      "cell_type": "code",
      "source": [
        "#11.Train a Binary Classifier:\n",
        "#11.1. Convert the target dataset into Binary (True and False) for a digit 5\n",
        "y_train_5=(y_train==5)\n",
        "y_test_5=(y_test==5)"
      ],
      "metadata": {
        "id": "bkLp5gIgeZCq"
      },
      "execution_count": 22,
      "outputs": []
    },
    {
      "cell_type": "code",
      "source": [
        "#11.2. Select SGD classifier from Scikit-Learn for the purpose, as it is capable for handling very large datasets efficiently.\n",
        "from sklearn.linear_model import SGDClassifier\n",
        "sgd_clf = SGDClassifier()"
      ],
      "metadata": {
        "id": "mdz-TR1bepG6"
      },
      "execution_count": 23,
      "outputs": []
    },
    {
      "cell_type": "code",
      "source": [
        "#11.3. Make your results reproducible by using any random state value for the classifier.\n",
        "sgd_clf = SGDClassifier(random_state=42)\n"
      ],
      "metadata": {
        "id": "Tq9QiC6Kev8u"
      },
      "execution_count": 24,
      "outputs": []
    },
    {
      "cell_type": "code",
      "source": [
        "#11.4. Train the classifier with train dataset and corresponding target in binary.\n",
        "sgd_clf.fit(X_train, y_train_5)\n"
      ],
      "metadata": {
        "colab": {
          "base_uri": "https://localhost:8080/"
        },
        "id": "RkfZmaXze6Ai",
        "outputId": "eb4d08bd-586d-41c5-ddf0-29c3498a6a41"
      },
      "execution_count": 25,
      "outputs": [
        {
          "output_type": "execute_result",
          "data": {
            "text/plain": [
              "SGDClassifier(random_state=42)"
            ]
          },
          "metadata": {},
          "execution_count": 25
        }
      ]
    },
    {
      "cell_type": "code",
      "source": [
        "# 12. Write a python function “prediction” to predict any value from the dataset\n",
        "# ,check if it is matching with corresponding target value and print message\n",
        "# “successful” if matching otherwise “unsuccessful”. Also show the imageof␣ dataset\n",
        "# value passed as a parameter to the function “prediction”.\n",
        "def prediction():\n",
        "  res=sgd_clf.predict(some_digit)\n",
        "  if(res[0]==True):\n",
        "    print(\"Succesfull\")\n",
        "  else:\n",
        "    print(\"Unsuccesfull\")\n",
        "prediction()\n",
        "print(y[0])\n",
        "plt.imshow(some_digit_image, cmap = mpl.cm.binary)\n",
        "plt.axis(\"off\")\n",
        "plt.show()\n"
      ],
      "metadata": {
        "colab": {
          "base_uri": "https://localhost:8080/",
          "height": 317
        },
        "id": "o-BzNZUIe_On",
        "outputId": "628b69de-73c0-430f-edc0-16d507d55d8e"
      },
      "execution_count": 26,
      "outputs": [
        {
          "output_type": "stream",
          "name": "stdout",
          "text": [
            "Succesfull\n",
            "5\n"
          ]
        },
        {
          "output_type": "stream",
          "name": "stderr",
          "text": [
            "/usr/local/lib/python3.7/dist-packages/sklearn/base.py:451: UserWarning: X does not have valid feature names, but SGDClassifier was fitted with feature names\n",
            "  \"X does not have valid feature names, but\"\n"
          ]
        },
        {
          "output_type": "display_data",
          "data": {
            "text/plain": [
              "<Figure size 432x288 with 1 Axes>"
            ],
            "image/png": "[encoded data removed]"
          },
          "metadata": {
            "needs_background": "light"
          }
        }
      ]
    },
    {
      "cell_type": "code",
      "source": [
        "# 13. Create a function to measure the accuracy of the classifier you trained in previous problem. Compute and print the number of correct prediction and\n",
        "# incorrect predictions of the trained classifier. Return the ratio of number of correct predictions and the total\n",
        "from sklearn.model_selection import StratifiedKFold\n",
        "from sklearn.base import clone\n",
        "skfolds = StratifiedKFold(n_splits=3, random_state=None)\n",
        "for train_index, test_index in skfolds.split(X_train, y_train_5):\n",
        "    clone_clf = clone(sgd_clf)\n",
        "    X_train_folds = X_train.values[train_index]\n",
        "    y_train_folds = y_train_5[train_index]\n",
        "    X_test_fold = X_train.values[test_index]\n",
        "    y_test_fold = y_train_5[test_index]\n",
        "    clone_clf.fit(X_train_folds, y_train_folds)\n",
        "    y_pred = clone_clf.predict(X_test_fold)\n",
        "    n_correct = sum(y_pred == y_test_fold)\n",
        "    print(n_correct / len(y_pred))\n"
      ],
      "metadata": {
        "colab": {
          "base_uri": "https://localhost:8080/"
        },
        "id": "cjsT40rPfN0P",
        "outputId": "5051cc22-b16b-4319-f187-e22a9d3a5b0c"
      },
      "execution_count": 27,
      "outputs": [
        {
          "output_type": "stream",
          "name": "stdout",
          "text": [
            "0.95035\n",
            "0.96035\n",
            "0.9604\n"
          ]
        }
      ]
    },
    {
      "cell_type": "code",
      "source": [
        "# 14. Compute classifier’s accuracy on train as well as on test dataset using cross_val_score function from sklearn’s model selection module.\n",
        "from sklearn.model_selection import cross_val_score\n",
        "print(\"Accuracy on train dataset: \",cross_val_score(sgd_clf, X_train,y_train_5, cv=3, scoring=\"accuracy\"))\n",
        "print(\"Accuracy on test dataset: \",cross_val_score(sgd_clf, X_test, y_test_5,cv=3, scoring=\"accuracy\"))\n"
      ],
      "metadata": {
        "colab": {
          "base_uri": "https://localhost:8080/"
        },
        "id": "LEvVDrKnfW7f",
        "outputId": "4b82bd69-69f3-4da1-9dd6-ff849787d9b5"
      },
      "execution_count": 28,
      "outputs": [
        {
          "output_type": "stream",
          "name": "stdout",
          "text": [
            "Accuracy on train dataset:  [0.95035 0.96035 0.9604 ]\n",
            "Accuracy on test dataset:  [0.95110978 0.95439544 0.96879688]\n"
          ]
        }
      ]
    },
    {
      "cell_type": "code",
      "source": [
        "# 15. Compare the accuracy of the trained classifier with a dumb classifier (the\n",
        "# classifier which predicts every value of train dataset as False) on train\n",
        "# dataset and print the accuracy of both classifiers. (You can use method\n",
        "# mentioned in above problem).\n",
        "from sklearn.base import BaseEstimator\n",
        "class Never5Classifier(BaseEstimator):\n",
        "  def fit(self, X, y=None):\n",
        "    pass\n",
        "  def predict(self, X):\n",
        "    return np.zeros((len(X), 1), dtype=bool)\n",
        "never_5_clf = Never5Classifier()\n",
        "cross_val_score(never_5_clf, X_train, y_train_5, cv=3, scoring=\"accuracy\")"
      ],
      "metadata": {
        "colab": {
          "base_uri": "https://localhost:8080/"
        },
        "id": "mLRq8qIvfmMS",
        "outputId": "6049a2cb-a566-4348-ac29-5fbd7dbdc2a5"
      },
      "execution_count": 32,
      "outputs": [
        {
          "output_type": "execute_result",
          "data": {
            "text/plain": [
              "array([0.91125, 0.90855, 0.90915])"
            ]
          },
          "metadata": {},
          "execution_count": 32
        }
      ]
    },
    {
      "cell_type": "code",
      "source": [
        "# 16.Compute the confusion matrix of the classifier’s predictions for train\n",
        "# dataset, and print the output in the form of TP,FP,FN,TN. Repeat the\n",
        "# same process for test dataset also.\n",
        "from sklearn.model_selection import cross_val_predict\n",
        "from sklearn.metrics import confusion_matrix\n",
        "y_train_pred = cross_val_predict(sgd_clf, X_train, y_train_5, cv=3)\n",
        "Matrix_train=confusion_matrix(y_train_5, y_train_pred)\n",
        "TN_train=Matrix_train[0][0]\n",
        "FP_train=Matrix_train[0][1]\n",
        "FN_train=Matrix_train[1][0]\n",
        "TP_train=Matrix_train[1][1]\n",
        "print(\"TN of train dataset: \",TN_train)\n",
        "print(\"FP of train dataset: \",FP_train)\n",
        "print(\"FN of train dataset: \",FN_train)\n",
        "print(\"TP of train dataset: \",TP_train)\n",
        "print(\"\\n\")\n",
        "y_test_pred = cross_val_predict(sgd_clf, X_test, y_test_5, cv=3)\n",
        "Matrix_test=confusion_matrix(y_test_5, y_test_pred)\n",
        "TN_test=Matrix_test[0][0]\n",
        "FP_test=Matrix_test[0][1]\n",
        "FN_test=Matrix_test[1][0]\n",
        "TP_test=Matrix_test[1][1]\n",
        "print(\"TN of test dataset: \",TN_test)\n",
        "print(\"FP of test dataset: \",FP_test)\n",
        "print(\"FN of test dataset: \",FN_test)\n",
        "print(\"TP of test dataset: \",TP_test)"
      ],
      "metadata": {
        "colab": {
          "base_uri": "https://localhost:8080/"
        },
        "id": "6akkHOSEfrMp",
        "outputId": "823f6e9b-d31a-4857-f81d-d71bfeddde43"
      },
      "execution_count": 30,
      "outputs": [
        {
          "output_type": "stream",
          "name": "stdout",
          "text": [
            "TN of train dataset:  53892\n",
            "FP of train dataset:  687\n",
            "FN of train dataset:  1891\n",
            "TP of train dataset:  3530\n",
            "\n",
            "\n",
            "TN of test dataset:  8936\n",
            "FP of test dataset:  172\n",
            "FN of test dataset:  247\n",
            "TP of test dataset:  645\n"
          ]
        }
      ]
    },
    {
      "cell_type": "code",
      "source": [
        "#17. Write a function to compute and print precision of the classier on train dataset as well as on test dataset separately.\n",
        "P_train=(TP_train/(TP_train+FP_train))\n",
        "P_test=(TP_test/(TP_test+FP_test))\n",
        "print(\"Precision on train dataset: \",P_train)\n",
        "print(\"Precision on train dataset: \",P_test)"
      ],
      "metadata": {
        "colab": {
          "base_uri": "https://localhost:8080/"
        },
        "id": "97lCy5usfwAf",
        "outputId": "39add1d7-c375-4b14-dc45-92b61f095ad6"
      },
      "execution_count": 31,
      "outputs": [
        {
          "output_type": "stream",
          "name": "stdout",
          "text": [
            "Precision on train dataset:  0.8370879772350012\n",
            "Precision on train dataset:  0.7894736842105263\n"
          ]
        }
      ]
    },
    {
      "cell_type": "code",
      "source": [
        "# 18. Write a function to compute and print recall of the classier on train dataset as well as on test dataset separately.\n",
        "R_train=(TP_train/(TP_train+FN_train))\n",
        "R_test=(TP_test/(TP_test+FN_test))\n",
        "print(\"Precision on train dataset: \",R_train)\n",
        "print(\"Precision on train dataset: \",R_test)"
      ],
      "metadata": {
        "colab": {
          "base_uri": "https://localhost:8080/"
        },
        "id": "ABMUpwVof8qb",
        "outputId": "19001dca-73f8-46dc-e8a9-655dfde3571e"
      },
      "execution_count": 33,
      "outputs": [
        {
          "output_type": "stream",
          "name": "stdout",
          "text": [
            "Precision on train dataset:  0.6511713705958311\n",
            "Precision on train dataset:  0.7230941704035875\n"
          ]
        }
      ]
    },
    {
      "cell_type": "code",
      "source": [
        "# 19. Compute the precision and recall of the train and test datasets using built-in functions precision_score, recall_score of sklearn’s metrics module.\n",
        "from sklearn.metrics import precision_score,recall_score\n",
        "print(\"Precision on train dataset: \",precision_score(y_train_5, y_train_pred))\n",
        "print(\"Precision on test dataset: \",precision_score(y_test_5, y_test_pred))\n",
        "print(\"\\n\")\n",
        "print(\"Recall on train dataset: \",recall_score(y_train_5, y_train_pred))\n",
        "print(\"Recall on test dataset: \",recall_score(y_test_5, y_test_pred))\n"
      ],
      "metadata": {
        "colab": {
          "base_uri": "https://localhost:8080/"
        },
        "id": "xK6daieTgC0n",
        "outputId": "e5f838ed-02d8-4639-b0b9-cef31cd8f9bc"
      },
      "execution_count": 34,
      "outputs": [
        {
          "output_type": "stream",
          "name": "stdout",
          "text": [
            "Precision on train dataset:  0.8370879772350012\n",
            "Precision on test dataset:  0.7894736842105263\n",
            "\n",
            "\n",
            "Recall on train dataset:  0.6511713705958311\n",
            "Recall on test dataset:  0.7230941704035875\n"
          ]
        }
      ]
    },
    {
      "cell_type": "code",
      "source": [
        "#20. Compute f1 score manually as well as using built-in functions f1_score. Manually f1 score\n",
        "F1_train=2*((P_train*R_train)/(P_train+R_train))\n",
        "F1_test=2*((P_test*R_test)/(P_test+R_test))\n",
        "print(\"Manually F1 score of train dataset: \",F1_train)\n",
        "print(\"Manually F1 score of test dataset: \",F1_test)\n",
        "print(\"\\n\")\n",
        "# Using built-in functions f1_score\n",
        "from sklearn.metrics import f1_score\n",
        "print(\"Using in built function f1 score of train dataset: \",f1_score(y_train_5,y_train_pred))\n",
        "print(\"Using in built function f1 score of test dataset: \",f1_score(y_test_5,y_test_pred))\n"
      ],
      "metadata": {
        "colab": {
          "base_uri": "https://localhost:8080/"
        },
        "id": "La4-yxZLgH3h",
        "outputId": "c50050e1-5159-4a48-8be3-4bca9981d538"
      },
      "execution_count": 35,
      "outputs": [
        {
          "output_type": "stream",
          "name": "stdout",
          "text": [
            "Manually F1 score of train dataset:  0.7325171197343846\n",
            "Manually F1 score of test dataset:  0.7548273844353423\n",
            "\n",
            "\n",
            "Using in built function f1 score of train dataset:  0.7325171197343846\n",
            "Using in built function f1 score of test dataset:  0.7548273844353423\n"
          ]
        }
      ]
    }
  ]
}